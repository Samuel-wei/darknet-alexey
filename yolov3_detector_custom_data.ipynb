{
  "nbformat": 4,
  "nbformat_minor": 0,
  "metadata": {
    "colab": {
      "name": "yolov3 detector custom data.ipynb",
      "provenance": [],
      "toc_visible": true,
      "mount_file_id": "1bmjIeHLcflpMXL5OeZnIcqzHL4ZpILR9",
      "authorship_tag": "ABX9TyNVn1wGe6FZYPgjzrP0Vbob",
      "include_colab_link": true
    },
    "kernelspec": {
      "name": "python3",
      "display_name": "Python 3"
    },
    "accelerator": "GPU"
  },
  "cells": [
    {
      "cell_type": "markdown",
      "metadata": {
        "id": "view-in-github",
        "colab_type": "text"
      },
      "source": [
        "<a href=\"https://colab.research.google.com/github/Samuel-wei/darknet-alexey/blob/master/yolov3_detector_custom_data.ipynb\" target=\"_parent\"><img src=\"https://colab.research.google.com/assets/colab-badge.svg\" alt=\"Open In Colab\"/></a>"
      ]
    },
    {
      "cell_type": "markdown",
      "metadata": {
        "id": "ZOlT4y5oMLeM",
        "colab_type": "text"
      },
      "source": [
        "# Build a YOLOv3 Object Detector with Darknet in the Cloud(GPU ENABLED)"
      ]
    },
    {
      "cell_type": "markdown",
      "metadata": {
        "id": "flTNeMzyKYFB",
        "colab_type": "text"
      },
      "source": [
        "## Step 1: Enabling GPU  within your notebook"
      ]
    },
    {
      "cell_type": "markdown",
      "metadata": {
        "id": "l1p_XhAEvQHB",
        "colab_type": "text"
      },
      "source": [
        "## Step 2: Cloning and Building Darkent\n",
        "\n",
        "The following cells will clone darknet from AlexeyAB's famous repository, adjust the Makefile to enable OpenCV and GPU for darknet an then build darknet.\n",
        "\n",
        "Do not worry about any warnings when you run the '!make' cell!"
      ]
    },
    {
      "cell_type": "code",
      "metadata": {
        "id": "qVHp1lqKHadm",
        "colab_type": "code",
        "colab": {}
      },
      "source": [
        "# clone darknet repo\n",
        "!git clone https://github.com/AlexeyAB/darknet\n"
      ],
      "execution_count": 0,
      "outputs": []
    },
    {
      "cell_type": "code",
      "metadata": {
        "id": "314hGo-JH8Jx",
        "colab_type": "code",
        "colab": {}
      },
      "source": [
        "# change makefile to have GPU and OPENCV enabled\n",
        "%cd darknet\n",
        "!sed -i 's/OPENCV=0/OPENCV=1/' Makefile\n",
        "!sed -i 's/GPU=0/GPU=1/' Makefile\n",
        "!sed -i 's/CUDNN=0/CUDNN=1/' Makefile"
      ],
      "execution_count": 0,
      "outputs": []
    },
    {
      "cell_type": "code",
      "metadata": {
        "id": "Vfzn7NhzIjNZ",
        "colab_type": "code",
        "colab": {}
      },
      "source": [
        "# verify CUDA\n",
        "!/usr/local/cuda/bin/nvcc --version"
      ],
      "execution_count": 0,
      "outputs": []
    },
    {
      "cell_type": "code",
      "metadata": {
        "id": "OfWfnWlUIqxh",
        "colab_type": "code",
        "colab": {}
      },
      "source": [
        "# make darknet (build)\n",
        "!make"
      ],
      "execution_count": 0,
      "outputs": []
    },
    {
      "cell_type": "markdown",
      "metadata": {
        "id": "XPphcWSfJIBS",
        "colab_type": "text"
      },
      "source": [
        "## Step 3: Download pretrained and define helper funcitons\n",
        "\n",
        "YOLOv3 weights\n",
        "YOLOv3 has been trained already on the coco dataset which has 80 classes that it can predict. We will grab these pretrained weights so that we can run YOLOv3 on these pretrained classes and get detections\n",
        "\n",
        "\n"
      ]
    },
    {
      "cell_type": "code",
      "metadata": {
        "id": "JYfeeu1ycgFe",
        "colab_type": "code",
        "colab": {}
      },
      "source": [
        "# get yolov3 pretrained coco dataset weights\n",
        "!wget https://pjreddie.com/media/files/yolov3.weights"
      ],
      "execution_count": 0,
      "outputs": []
    },
    {
      "cell_type": "code",
      "metadata": {
        "id": "Wh1lJOoHr1_V",
        "colab_type": "code",
        "colab": {}
      },
      "source": [
        "# get yolov3 pretrained coco dataset tiny-weights\n",
        "!wget https://pjreddie.com/media/files/tiny.weights"
      ],
      "execution_count": 0,
      "outputs": []
    },
    {
      "cell_type": "code",
      "metadata": {
        "id": "w4Pm0VoqmGia",
        "colab_type": "code",
        "colab": {}
      },
      "source": [
        "# define helper functions\n",
        "def imShow(path):\n",
        "  import cv2\n",
        "  import matplotlib.pyplot as plt\n",
        "  %matplotlib inline\n",
        "\n",
        "  image = cv2.imread(path)\n",
        "  height, width = image.shape[:2]\n",
        "  resized_image = cv2.resize(image,(3*width, 3*height), interpolation = cv2.INTER_CUBIC)\n",
        "\n",
        "  fig = plt.gcf()\n",
        "  fig.set_size_inches(18, 10)\n",
        "  plt.axis(\"off\")\n",
        "  plt.imshow(cv2.cvtColor(resized_image, cv2.COLOR_BGR2RGB))\n",
        "  plt.show()\n",
        "\n",
        "# use this to upload files\n",
        "def upload():\n",
        "  from google.colab import files\n",
        "  uploaded = files.upload() \n",
        "  for name, data in uploaded.items():\n",
        "    with open(name, 'wb') as f:\n",
        "      f.write(data)\n",
        "      print ('saved file', name)\n",
        "\n",
        "# use this to download a file  \n",
        "def download(path):\n",
        "  from google.colab import files\n",
        "  files.download(path)"
      ],
      "execution_count": 0,
      "outputs": []
    },
    {
      "cell_type": "markdown",
      "metadata": {
        "id": "PZ_ryfYZclWH",
        "colab_type": "text"
      },
      "source": [
        "## Step 4: Run Detections with Darknet and YOLOv3\n",
        "Darknet is now built and ready to run detections using YOLOv3 in the cloud! You can find out which sorts of classes the pretrained YOLOv3 weights can detect by clicking here.[COCO CLASSES](http://cocodataset.org/#explore)\n",
        "\n",
        "The object detector can be run using the following command\n",
        "\n",
        "`$ ./darknet detect <path to config> <path to weights> <path to image>`\n",
        "\n",
        "Darknet comes with a few images already installed in the darkent/data/folder.\n",
        "\n",
        "Note: After runing detections OpenCV can't open the image instantly in the cloud so we must run:\n",
        "\n",
        "`imShow('predictions.jpg')`\n",
        "\n",
        "This will output the image wiht the detections shown. The most recent detections are always saved to 'predictions.jpg'\n",
        "\n",
        "Try out the examples below for yourself!"
      ]
    },
    {
      "cell_type": "code",
      "metadata": {
        "id": "behELtk7cMlN",
        "colab_type": "code",
        "colab": {}
      },
      "source": [
        "# run darknet detection\n",
        "!./darknet detect cfg/yolov3.cfg yolov3.weights data/dog.jpg"
      ],
      "execution_count": 0,
      "outputs": []
    },
    {
      "cell_type": "code",
      "metadata": {
        "id": "achNgZ6wpg78",
        "colab_type": "code",
        "colab": {}
      },
      "source": [
        "# look we can ran another detection\n",
        "!./darknet detect cfg/yolov3.cfg yolov3.weights data/person.jpg\n",
        "imShow('predictions.jpg')"
      ],
      "execution_count": 0,
      "outputs": []
    },
    {
      "cell_type": "code",
      "metadata": {
        "id": "_isNKIOFa3B2",
        "colab_type": "code",
        "colab": {}
      },
      "source": [
        "# show image using our helper function\n",
        "imShow('predictions.jpg')"
      ],
      "execution_count": 0,
      "outputs": []
    },
    {
      "cell_type": "markdown",
      "metadata": {
        "id": "w_9kyd3FqpBf",
        "colab_type": "text"
      },
      "source": [
        "WOW this is magic! Make sure to click this link to be blessed with lots of YOLOv3 luck!!!\n",
        "\n",
        "[https://www.youtube.com/channel/UCrydcKaojc44XnuXrfhlV8Q?sub_confirmation=1](https://www.youtube.com/channel/UCrydcKaojc44XnuXrfhlV8Q?sub_confirmation=1)"
      ]
    },
    {
      "cell_type": "code",
      "metadata": {
        "id": "71Am_keIrDPv",
        "colab_type": "code",
        "colab": {}
      },
      "source": [
        "# This stops 'Run all' at this cell by causing an error\n",
        "assert False"
      ],
      "execution_count": 0,
      "outputs": []
    },
    {
      "cell_type": "markdown",
      "metadata": {
        "id": "mn0n1nbyrRz4",
        "colab_type": "text"
      },
      "source": [
        "## Step 5: Uploading Local or Google Drive Files to Use\n",
        "\n",
        "you may want to run detections on more than just image within the darknet/data/folder. This step will show you how to upload local or Google Drive files to the cloud VM an run detections on them!"
      ]
    },
    {
      "cell_type": "markdown",
      "metadata": {
        "id": "MKULzOmxr7wV",
        "colab_type": "text"
      },
      "source": [
        "### Method 1: Local Files\n",
        "\n",
        "to upload local files just use our helper function by running 'upload()' as seen below. Click Choose Files and select the image from your local machine that you want to upload to the cloud VM.\n",
        "\n",
        "If this function doen't work for you then click the Upload button in the File explorer on the left side of your notebook.\n",
        "\n",
        "![image.png](data:image/png;base64,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)\n",
        "\n",
        "The image should save to your root directory so that you can access it from your darknet command by runing.\n",
        "\n",
        "`!./darknet detect cfg/yolov3.cfg yolov3.weights ../<your image name>`"
      ]
    },
    {
      "cell_type": "code",
      "metadata": {
        "id": "YUWNX9HLp2C8",
        "colab_type": "code",
        "colab": {
          "resources": {
            "http://localhost:8080/nbextensions/google.colab/files.js": {
              "data": "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",
              "ok": true,
              "headers": [
                [
                  "content-type",
                  "application/javascript"
                ]
              ],
              "status": 200,
              "status_text": ""
            }
          },
          "base_uri": "https://localhost:8080/",
          "height": 105
        },
        "outputId": "0ca0c854-5659-4d78-95a2-71df61528d54"
      },
      "source": [
        "# upload an image to root directory \n",
        "%cd /content/darknet-alexey/darknet/testfiles\n",
        "upload()"
      ],
      "execution_count": 29,
      "outputs": [
        {
          "output_type": "stream",
          "text": [
            "/content/darknet-alexey/darknet/testfiles\n"
          ],
          "name": "stdout"
        },
        {
          "output_type": "display_data",
          "data": {
            "text/html": [
              "\n",
              "     <input type=\"file\" id=\"files-f8eef729-115d-4a93-acd3-0f579d263093\" name=\"files[]\" multiple disabled />\n",
              "     <output id=\"result-f8eef729-115d-4a93-acd3-0f579d263093\">\n",
              "      Upload widget is only available when the cell has been executed in the\n",
              "      current browser session. Please rerun this cell to enable.\n",
              "      </output>\n",
              "      <script src=\"/nbextensions/google.colab/files.js\"></script> "
            ],
            "text/plain": [
              "<IPython.core.display.HTML object>"
            ]
          },
          "metadata": {
            "tags": []
          }
        },
        {
          "output_type": "stream",
          "text": [
            "Saving eagle.jpg to eagle.jpg\n",
            "saved file eagle.jpg\n"
          ],
          "name": "stdout"
        }
      ]
    },
    {
      "cell_type": "code",
      "metadata": {
        "id": "u0XtQXRau5W2",
        "colab_type": "code",
        "colab": {}
      },
      "source": [
        "# make sure you are in the darknet folder to run the detections command!\n",
        "%cd /content/darknet-alexey/darknet\n",
        "!./darknet detect cfg/yolov3.cfg yolov3.weights /content/darknet-alexey/darknet/testfiles/eagle.jpg"
      ],
      "execution_count": 0,
      "outputs": []
    },
    {
      "cell_type": "code",
      "metadata": {
        "colab_type": "code",
        "id": "78f30cS646Sh",
        "colab": {}
      },
      "source": [
        "# show image using our helper function\n",
        "imShow('predictions.jpg')"
      ],
      "execution_count": 0,
      "outputs": []
    },
    {
      "cell_type": "markdown",
      "metadata": {
        "id": "3THEO7mt4762",
        "colab_type": "text"
      },
      "source": [
        "### Method 2: Google Drive\n",
        "\n",
        "Images can also be uploaded from your Google Drive and easily have detections run on them.\n",
        "\n",
        "You will want to run the below cell to mount your google drive into the cloud VM so that you can access its contents. It is that easy \n",
        "\n",
        "Note: We will be creating a symbolic link between '/content/gdrive/My\\ Drive/' and  'mydrive'.\n",
        "\n",
        "This means we are just creating a shortcut 'mydrive'to map to the contents within the folder '/conten/gdrive/My\\ Drive/'.\n",
        "\n",
        "The reason for this is that sometime having the space in 'My Drive' folder path can  cause issues when runing certain conmands. This symbolic link will stop this from happening!\n",
        "\n",
        "Now you can run YOLOv3 with images from Google Drive using the darknent command:\n",
        "\n",
        "`!./darknet detect cfg/yolov3.cfg yolov3.weights /mydrive/<path to image>`"
      ]
    },
    {
      "cell_type": "code",
      "metadata": {
        "id": "Nipbff7C5J31",
        "colab_type": "code",
        "colab": {
          "base_uri": "https://localhost:8080/",
          "height": 569
        },
        "outputId": "76a3660e-cdb6-425e-c1ca-f34f40010f7b"
      },
      "source": [
        "%cd ..\n",
        "from google.colab import drive\n",
        "drive.mount('/content/drive')"
      ],
      "execution_count": 33,
      "outputs": [
        {
          "output_type": "stream",
          "text": [
            "/\n"
          ],
          "name": "stdout"
        },
        {
          "output_type": "error",
          "ename": "KeyboardInterrupt",
          "evalue": "ignored",
          "traceback": [
            "\u001b[0;31m---------------------------------------------------------------------------\u001b[0m",
            "\u001b[0;31mKeyboardInterrupt\u001b[0m                         Traceback (most recent call last)",
            "\u001b[0;32m/usr/local/lib/python3.6/dist-packages/ipykernel/kernelbase.py\u001b[0m in \u001b[0;36m_input_request\u001b[0;34m(self, prompt, ident, parent, password)\u001b[0m\n\u001b[1;32m    729\u001b[0m             \u001b[0;32mtry\u001b[0m\u001b[0;34m:\u001b[0m\u001b[0;34m\u001b[0m\u001b[0;34m\u001b[0m\u001b[0m\n\u001b[0;32m--> 730\u001b[0;31m                 \u001b[0mident\u001b[0m\u001b[0;34m,\u001b[0m \u001b[0mreply\u001b[0m \u001b[0;34m=\u001b[0m \u001b[0mself\u001b[0m\u001b[0;34m.\u001b[0m\u001b[0msession\u001b[0m\u001b[0;34m.\u001b[0m\u001b[0mrecv\u001b[0m\u001b[0;34m(\u001b[0m\u001b[0mself\u001b[0m\u001b[0;34m.\u001b[0m\u001b[0mstdin_socket\u001b[0m\u001b[0;34m,\u001b[0m \u001b[0;36m0\u001b[0m\u001b[0;34m)\u001b[0m\u001b[0;34m\u001b[0m\u001b[0;34m\u001b[0m\u001b[0m\n\u001b[0m\u001b[1;32m    731\u001b[0m             \u001b[0;32mexcept\u001b[0m \u001b[0mException\u001b[0m\u001b[0;34m:\u001b[0m\u001b[0;34m\u001b[0m\u001b[0;34m\u001b[0m\u001b[0m\n",
            "\u001b[0;32m/usr/local/lib/python3.6/dist-packages/jupyter_client/session.py\u001b[0m in \u001b[0;36mrecv\u001b[0;34m(self, socket, mode, content, copy)\u001b[0m\n\u001b[1;32m    802\u001b[0m         \u001b[0;32mtry\u001b[0m\u001b[0;34m:\u001b[0m\u001b[0;34m\u001b[0m\u001b[0;34m\u001b[0m\u001b[0m\n\u001b[0;32m--> 803\u001b[0;31m             \u001b[0mmsg_list\u001b[0m \u001b[0;34m=\u001b[0m \u001b[0msocket\u001b[0m\u001b[0;34m.\u001b[0m\u001b[0mrecv_multipart\u001b[0m\u001b[0;34m(\u001b[0m\u001b[0mmode\u001b[0m\u001b[0;34m,\u001b[0m \u001b[0mcopy\u001b[0m\u001b[0;34m=\u001b[0m\u001b[0mcopy\u001b[0m\u001b[0;34m)\u001b[0m\u001b[0;34m\u001b[0m\u001b[0;34m\u001b[0m\u001b[0m\n\u001b[0m\u001b[1;32m    804\u001b[0m         \u001b[0;32mexcept\u001b[0m \u001b[0mzmq\u001b[0m\u001b[0;34m.\u001b[0m\u001b[0mZMQError\u001b[0m \u001b[0;32mas\u001b[0m \u001b[0me\u001b[0m\u001b[0;34m:\u001b[0m\u001b[0;34m\u001b[0m\u001b[0;34m\u001b[0m\u001b[0m\n",
            "\u001b[0;32m/usr/local/lib/python3.6/dist-packages/zmq/sugar/socket.py\u001b[0m in \u001b[0;36mrecv_multipart\u001b[0;34m(self, flags, copy, track)\u001b[0m\n\u001b[1;32m    465\u001b[0m         \"\"\"\n\u001b[0;32m--> 466\u001b[0;31m         \u001b[0mparts\u001b[0m \u001b[0;34m=\u001b[0m \u001b[0;34m[\u001b[0m\u001b[0mself\u001b[0m\u001b[0;34m.\u001b[0m\u001b[0mrecv\u001b[0m\u001b[0;34m(\u001b[0m\u001b[0mflags\u001b[0m\u001b[0;34m,\u001b[0m \u001b[0mcopy\u001b[0m\u001b[0;34m=\u001b[0m\u001b[0mcopy\u001b[0m\u001b[0;34m,\u001b[0m \u001b[0mtrack\u001b[0m\u001b[0;34m=\u001b[0m\u001b[0mtrack\u001b[0m\u001b[0;34m)\u001b[0m\u001b[0;34m]\u001b[0m\u001b[0;34m\u001b[0m\u001b[0;34m\u001b[0m\u001b[0m\n\u001b[0m\u001b[1;32m    467\u001b[0m         \u001b[0;31m# have first part already, only loop while more to receive\u001b[0m\u001b[0;34m\u001b[0m\u001b[0;34m\u001b[0m\u001b[0;34m\u001b[0m\u001b[0m\n",
            "\u001b[0;32mzmq/backend/cython/socket.pyx\u001b[0m in \u001b[0;36mzmq.backend.cython.socket.Socket.recv\u001b[0;34m()\u001b[0m\n",
            "\u001b[0;32mzmq/backend/cython/socket.pyx\u001b[0m in \u001b[0;36mzmq.backend.cython.socket.Socket.recv\u001b[0;34m()\u001b[0m\n",
            "\u001b[0;32mzmq/backend/cython/socket.pyx\u001b[0m in \u001b[0;36mzmq.backend.cython.socket._recv_copy\u001b[0;34m()\u001b[0m\n",
            "\u001b[0;32m/usr/local/lib/python3.6/dist-packages/zmq/backend/cython/checkrc.pxd\u001b[0m in \u001b[0;36mzmq.backend.cython.checkrc._check_rc\u001b[0;34m()\u001b[0m\n",
            "\u001b[0;31mKeyboardInterrupt\u001b[0m: ",
            "\nDuring handling of the above exception, another exception occurred:\n",
            "\u001b[0;31mKeyboardInterrupt\u001b[0m                         Traceback (most recent call last)",
            "\u001b[0;32m<ipython-input-33-265c53c9893f>\u001b[0m in \u001b[0;36m<module>\u001b[0;34m()\u001b[0m\n\u001b[1;32m      1\u001b[0m \u001b[0mget_ipython\u001b[0m\u001b[0;34m(\u001b[0m\u001b[0;34m)\u001b[0m\u001b[0;34m.\u001b[0m\u001b[0mmagic\u001b[0m\u001b[0;34m(\u001b[0m\u001b[0;34m'cd ..'\u001b[0m\u001b[0;34m)\u001b[0m\u001b[0;34m\u001b[0m\u001b[0;34m\u001b[0m\u001b[0m\n\u001b[1;32m      2\u001b[0m \u001b[0;32mfrom\u001b[0m \u001b[0mgoogle\u001b[0m\u001b[0;34m.\u001b[0m\u001b[0mcolab\u001b[0m \u001b[0;32mimport\u001b[0m \u001b[0mdrive\u001b[0m\u001b[0;34m\u001b[0m\u001b[0;34m\u001b[0m\u001b[0m\n\u001b[0;32m----> 3\u001b[0;31m \u001b[0mdrive\u001b[0m\u001b[0;34m.\u001b[0m\u001b[0mmount\u001b[0m\u001b[0;34m(\u001b[0m\u001b[0;34m'/content/drive'\u001b[0m\u001b[0;34m)\u001b[0m\u001b[0;34m\u001b[0m\u001b[0;34m\u001b[0m\u001b[0m\n\u001b[0m",
            "\u001b[0;32m/usr/local/lib/python3.6/dist-packages/google/colab/drive.py\u001b[0m in \u001b[0;36mmount\u001b[0;34m(mountpoint, force_remount, timeout_ms, use_metadata_server)\u001b[0m\n\u001b[1;32m    236\u001b[0m       \u001b[0mauth_prompt\u001b[0m \u001b[0;34m=\u001b[0m \u001b[0md\u001b[0m\u001b[0;34m.\u001b[0m\u001b[0mmatch\u001b[0m\u001b[0;34m.\u001b[0m\u001b[0mgroup\u001b[0m\u001b[0;34m(\u001b[0m\u001b[0;36m1\u001b[0m\u001b[0;34m)\u001b[0m \u001b[0;34m+\u001b[0m \u001b[0;34m'\\nEnter your authorization code:\\n'\u001b[0m\u001b[0;34m\u001b[0m\u001b[0;34m\u001b[0m\u001b[0m\n\u001b[1;32m    237\u001b[0m       \u001b[0;32mwith\u001b[0m \u001b[0mopen\u001b[0m\u001b[0;34m(\u001b[0m\u001b[0mfifo\u001b[0m\u001b[0;34m,\u001b[0m \u001b[0;34m'w'\u001b[0m\u001b[0;34m)\u001b[0m \u001b[0;32mas\u001b[0m \u001b[0mfifo_file\u001b[0m\u001b[0;34m:\u001b[0m\u001b[0;34m\u001b[0m\u001b[0;34m\u001b[0m\u001b[0m\n\u001b[0;32m--> 238\u001b[0;31m         \u001b[0mfifo_file\u001b[0m\u001b[0;34m.\u001b[0m\u001b[0mwrite\u001b[0m\u001b[0;34m(\u001b[0m\u001b[0m_getpass\u001b[0m\u001b[0;34m.\u001b[0m\u001b[0mgetpass\u001b[0m\u001b[0;34m(\u001b[0m\u001b[0mauth_prompt\u001b[0m\u001b[0;34m)\u001b[0m \u001b[0;34m+\u001b[0m \u001b[0;34m'\\n'\u001b[0m\u001b[0;34m)\u001b[0m\u001b[0;34m\u001b[0m\u001b[0;34m\u001b[0m\u001b[0m\n\u001b[0m\u001b[1;32m    239\u001b[0m       \u001b[0mwrote_to_fifo\u001b[0m \u001b[0;34m=\u001b[0m \u001b[0;32mTrue\u001b[0m\u001b[0;34m\u001b[0m\u001b[0;34m\u001b[0m\u001b[0m\n\u001b[1;32m    240\u001b[0m   \u001b[0;32mif\u001b[0m \u001b[0;32mnot\u001b[0m \u001b[0mwrote_to_fifo\u001b[0m\u001b[0;34m:\u001b[0m\u001b[0;34m\u001b[0m\u001b[0;34m\u001b[0m\u001b[0m\n",
            "\u001b[0;32m/usr/local/lib/python3.6/dist-packages/ipykernel/kernelbase.py\u001b[0m in \u001b[0;36mgetpass\u001b[0;34m(self, prompt, stream)\u001b[0m\n\u001b[1;32m    686\u001b[0m             \u001b[0mself\u001b[0m\u001b[0;34m.\u001b[0m\u001b[0m_parent_ident\u001b[0m\u001b[0;34m,\u001b[0m\u001b[0;34m\u001b[0m\u001b[0;34m\u001b[0m\u001b[0m\n\u001b[1;32m    687\u001b[0m             \u001b[0mself\u001b[0m\u001b[0;34m.\u001b[0m\u001b[0m_parent_header\u001b[0m\u001b[0;34m,\u001b[0m\u001b[0;34m\u001b[0m\u001b[0;34m\u001b[0m\u001b[0m\n\u001b[0;32m--> 688\u001b[0;31m             \u001b[0mpassword\u001b[0m\u001b[0;34m=\u001b[0m\u001b[0;32mTrue\u001b[0m\u001b[0;34m,\u001b[0m\u001b[0;34m\u001b[0m\u001b[0;34m\u001b[0m\u001b[0m\n\u001b[0m\u001b[1;32m    689\u001b[0m         )\n\u001b[1;32m    690\u001b[0m \u001b[0;34m\u001b[0m\u001b[0m\n",
            "\u001b[0;32m/usr/local/lib/python3.6/dist-packages/ipykernel/kernelbase.py\u001b[0m in \u001b[0;36m_input_request\u001b[0;34m(self, prompt, ident, parent, password)\u001b[0m\n\u001b[1;32m    733\u001b[0m             \u001b[0;32mexcept\u001b[0m \u001b[0mKeyboardInterrupt\u001b[0m\u001b[0;34m:\u001b[0m\u001b[0;34m\u001b[0m\u001b[0;34m\u001b[0m\u001b[0m\n\u001b[1;32m    734\u001b[0m                 \u001b[0;31m# re-raise KeyboardInterrupt, to truncate traceback\u001b[0m\u001b[0;34m\u001b[0m\u001b[0;34m\u001b[0m\u001b[0;34m\u001b[0m\u001b[0m\n\u001b[0;32m--> 735\u001b[0;31m                 \u001b[0;32mraise\u001b[0m \u001b[0mKeyboardInterrupt\u001b[0m\u001b[0;34m\u001b[0m\u001b[0;34m\u001b[0m\u001b[0m\n\u001b[0m\u001b[1;32m    736\u001b[0m             \u001b[0;32melse\u001b[0m\u001b[0;34m:\u001b[0m\u001b[0;34m\u001b[0m\u001b[0;34m\u001b[0m\u001b[0m\n\u001b[1;32m    737\u001b[0m                 \u001b[0;32mbreak\u001b[0m\u001b[0;34m\u001b[0m\u001b[0;34m\u001b[0m\u001b[0m\n",
            "\u001b[0;31mKeyboardInterrupt\u001b[0m: "
          ]
        }
      ]
    }
  ]
}